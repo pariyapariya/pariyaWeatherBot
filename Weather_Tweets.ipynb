{
 "cells": [
  {
   "cell_type": "code",
   "execution_count": 1,
   "metadata": {},
   "outputs": [],
   "source": [
    "# Dependencies\n",
    "import tweepy\n",
    "import time\n",
    "import json\n",
    "import os\n",
    "import random\n",
    "import requests as req\n",
    "import datetime\n",
    "from config import consumer_key, consumer_secret, access_token, access_token_secret, weather_api_key"
   ]
  },
  {
   "cell_type": "code",
   "execution_count": 2,
   "metadata": {},
   "outputs": [],
   "source": [
    "# Twitter API Keys\n",
    "consumer_key = consumer_key\n",
    "consumer_secret = consumer_secret\n",
    "access_token = access_token\n",
    "access_token_secret = access_token_secret"
   ]
  },
  {
   "cell_type": "code",
   "execution_count": 3,
   "metadata": {},
   "outputs": [],
   "source": [
    "# Create a function that gets the weather in London and Tweets it\n",
    "def WeatherTweet():\n",
    "\n",
    "    # Construct a Query URL for the OpenWeatherMap\n",
    "    url = 'http://api.openweathermap.org/data/2.5/weather?'\n",
    "    city = 'Washington, D.C.'\n",
    "    units = 'imperial'\n",
    "    query_url = (f'{url}appid={weather_api_key}&q={city}&units={units}')\n",
    "\n",
    "    # Perform the API call to get the weather\n",
    "    weather_response = req.get(query_url)\n",
    "    weather_json = weather_response.json()\n",
    "    print(weather_json)\n",
    "\n",
    "    # Twitter credentials\n",
    "    auth = tweepy.OAuthHandler(consumer_key, consumer_secret)\n",
    "    auth.set_access_token(access_token, access_token_secret)\n",
    "    api = tweepy.API(auth, parser=tweepy.parsers.JSONParser())\n",
    "\n",
    "    # Tweet the weather\n",
    "    api.update_status(\n",
    "        \"[pariyabot] - Weather in DC \" +\\\n",
    "        (datetime.datetime.now().strftime(\"%I:%M %p\") + \" \" +\\\n",
    "         str(weather_json[\"main\"][\"temp\"])+\"F\"))\n",
    "\n",
    "    # Print success message\n",
    "    print(\"Tweeted successfully!\")"
   ]
  },
  {
   "cell_type": "code",
   "execution_count": 4,
   "metadata": {},
   "outputs": [],
   "source": [
    "# Test out the function\n",
    "# WeatherTweet()"
   ]
  },
  {
   "cell_type": "code",
   "execution_count": null,
   "metadata": {},
   "outputs": [
    {
     "name": "stdout",
     "output_type": "stream",
     "text": [
      "{'coord': {'lon': -120.5, 'lat': 47.5}, 'weather': [{'id': 800, 'main': 'Clear', 'description': 'clear sky', 'icon': '01d'}], 'base': 'stations', 'main': {'temp': 86.5, 'feels_like': 76.71, 'temp_min': 84.99, 'temp_max': 87.8, 'pressure': 1017, 'humidity': 18}, 'visibility': 10000, 'wind': {'speed': 12.75, 'deg': 310}, 'clouds': {'all': 1}, 'dt': 1596494766, 'sys': {'type': 1, 'id': 3917, 'country': 'US', 'sunrise': 1596458588, 'sunset': 1596511983}, 'timezone': -25200, 'id': 5815135, 'name': 'Washington', 'cod': 200}\n",
      "Tweeted successfully!\n",
      "{'coord': {'lon': -120.5, 'lat': 47.5}, 'weather': [{'id': 800, 'main': 'Clear', 'description': 'clear sky', 'icon': '01d'}], 'base': 'stations', 'main': {'temp': 86.5, 'feels_like': 76.71, 'temp_min': 84.99, 'temp_max': 87.8, 'pressure': 1017, 'humidity': 18}, 'visibility': 10000, 'wind': {'speed': 12.75, 'deg': 310}, 'clouds': {'all': 1}, 'dt': 1596494766, 'sys': {'type': 1, 'id': 3917, 'country': 'US', 'sunrise': 1596458588, 'sunset': 1596511983}, 'timezone': -25200, 'id': 5815135, 'name': 'Washington', 'cod': 200}\n",
      "Tweeted successfully!\n",
      "{'coord': {'lon': -120.5, 'lat': 47.5}, 'weather': [{'id': 800, 'main': 'Clear', 'description': 'clear sky', 'icon': '01d'}], 'base': 'stations', 'main': {'temp': 85.98, 'feels_like': 82.87, 'temp_min': 84, 'temp_max': 87.01, 'pressure': 1013, 'humidity': 23}, 'visibility': 10000, 'wind': {'speed': 3, 'deg': 175, 'gust': 8.99}, 'clouds': {'all': 0}, 'dt': 1596495575, 'sys': {'type': 3, 'id': 2003593, 'country': 'US', 'sunrise': 1596458588, 'sunset': 1596511983}, 'timezone': -25200, 'id': 5815135, 'name': 'Washington', 'cod': 200}\n",
      "Tweeted successfully!\n",
      "{'coord': {'lon': -120.5, 'lat': 47.5}, 'weather': [{'id': 800, 'main': 'Clear', 'description': 'clear sky', 'icon': '01d'}], 'base': 'stations', 'main': {'temp': 85.98, 'feels_like': 82.87, 'temp_min': 84, 'temp_max': 87.01, 'pressure': 1013, 'humidity': 23}, 'visibility': 10000, 'wind': {'speed': 3, 'deg': 175, 'gust': 8.99}, 'clouds': {'all': 0}, 'dt': 1596495575, 'sys': {'type': 3, 'id': 2003593, 'country': 'US', 'sunrise': 1596458588, 'sunset': 1596511983}, 'timezone': -25200, 'id': 5815135, 'name': 'Washington', 'cod': 200}\n",
      "Tweeted successfully!\n",
      "{'coord': {'lon': -120.5, 'lat': 47.5}, 'weather': [{'id': 800, 'main': 'Clear', 'description': 'clear sky', 'icon': '01d'}], 'base': 'stations', 'main': {'temp': 85.98, 'feels_like': 82.87, 'temp_min': 84, 'temp_max': 87.01, 'pressure': 1013, 'humidity': 23}, 'visibility': 10000, 'wind': {'speed': 3, 'deg': 175, 'gust': 8.99}, 'clouds': {'all': 0}, 'dt': 1596495575, 'sys': {'type': 3, 'id': 2003593, 'country': 'US', 'sunrise': 1596458588, 'sunset': 1596511983}, 'timezone': -25200, 'id': 5815135, 'name': 'Washington', 'cod': 200}\n",
      "Tweeted successfully!\n",
      "{'coord': {'lon': -120.5, 'lat': 47.5}, 'weather': [{'id': 800, 'main': 'Clear', 'description': 'clear sky', 'icon': '01d'}], 'base': 'stations', 'main': {'temp': 85.98, 'feels_like': 82.87, 'temp_min': 84, 'temp_max': 87.01, 'pressure': 1013, 'humidity': 23}, 'visibility': 10000, 'wind': {'speed': 3, 'deg': 175, 'gust': 8.99}, 'clouds': {'all': 0}, 'dt': 1596495575, 'sys': {'type': 3, 'id': 2003593, 'country': 'US', 'sunrise': 1596458588, 'sunset': 1596511983}, 'timezone': -25200, 'id': 5815135, 'name': 'Washington', 'cod': 200}\n",
      "Tweeted successfully!\n",
      "{'coord': {'lon': -120.5, 'lat': 47.5}, 'weather': [{'id': 800, 'main': 'Clear', 'description': 'clear sky', 'icon': '01d'}], 'base': 'stations', 'main': {'temp': 85.98, 'feels_like': 82.87, 'temp_min': 84, 'temp_max': 87.01, 'pressure': 1013, 'humidity': 23}, 'visibility': 10000, 'wind': {'speed': 3, 'deg': 175, 'gust': 8.99}, 'clouds': {'all': 0}, 'dt': 1596495575, 'sys': {'type': 3, 'id': 2003593, 'country': 'US', 'sunrise': 1596458588, 'sunset': 1596511983}, 'timezone': -25200, 'id': 5815135, 'name': 'Washington', 'cod': 200}\n",
      "Tweeted successfully!\n",
      "{'coord': {'lon': -120.5, 'lat': 47.5}, 'weather': [{'id': 800, 'main': 'Clear', 'description': 'clear sky', 'icon': '01d'}], 'base': 'stations', 'main': {'temp': 85.98, 'feels_like': 82.87, 'temp_min': 84, 'temp_max': 87.01, 'pressure': 1013, 'humidity': 23}, 'visibility': 10000, 'wind': {'speed': 3, 'deg': 175, 'gust': 8.99}, 'clouds': {'all': 0}, 'dt': 1596495575, 'sys': {'type': 3, 'id': 2003593, 'country': 'US', 'sunrise': 1596458588, 'sunset': 1596511983}, 'timezone': -25200, 'id': 5815135, 'name': 'Washington', 'cod': 200}\n",
      "Tweeted successfully!\n",
      "{'coord': {'lon': -120.5, 'lat': 47.5}, 'weather': [{'id': 800, 'main': 'Clear', 'description': 'clear sky', 'icon': '01d'}], 'base': 'stations', 'main': {'temp': 85.98, 'feels_like': 82.87, 'temp_min': 84, 'temp_max': 87.01, 'pressure': 1013, 'humidity': 23}, 'visibility': 10000, 'wind': {'speed': 3, 'deg': 175, 'gust': 8.99}, 'clouds': {'all': 0}, 'dt': 1596495575, 'sys': {'type': 3, 'id': 2003593, 'country': 'US', 'sunrise': 1596458588, 'sunset': 1596511983}, 'timezone': -25200, 'id': 5815135, 'name': 'Washington', 'cod': 200}\n",
      "Tweeted successfully!\n",
      "{'coord': {'lon': -120.5, 'lat': 47.5}, 'weather': [{'id': 800, 'main': 'Clear', 'description': 'clear sky', 'icon': '01d'}], 'base': 'stations', 'main': {'temp': 85.98, 'feels_like': 82.87, 'temp_min': 84, 'temp_max': 87.01, 'pressure': 1013, 'humidity': 23}, 'visibility': 10000, 'wind': {'speed': 3, 'deg': 175, 'gust': 8.99}, 'clouds': {'all': 0}, 'dt': 1596495575, 'sys': {'type': 3, 'id': 2003593, 'country': 'US', 'sunrise': 1596458588, 'sunset': 1596511983}, 'timezone': -25200, 'id': 5815135, 'name': 'Washington', 'cod': 200}\n",
      "Tweeted successfully!\n",
      "{'coord': {'lon': -120.5, 'lat': 47.5}, 'weather': [{'id': 800, 'main': 'Clear', 'description': 'clear sky', 'icon': '01d'}], 'base': 'stations', 'main': {'temp': 85.98, 'feels_like': 82.87, 'temp_min': 84, 'temp_max': 87.01, 'pressure': 1013, 'humidity': 23}, 'visibility': 10000, 'wind': {'speed': 3, 'deg': 175, 'gust': 8.99}, 'clouds': {'all': 0}, 'dt': 1596495575, 'sys': {'type': 3, 'id': 2003593, 'country': 'US', 'sunrise': 1596458588, 'sunset': 1596511983}, 'timezone': -25200, 'id': 5815135, 'name': 'Washington', 'cod': 200}\n",
      "Tweeted successfully!\n",
      "{'coord': {'lon': -120.5, 'lat': 47.5}, 'weather': [{'id': 800, 'main': 'Clear', 'description': 'clear sky', 'icon': '01d'}], 'base': 'stations', 'main': {'temp': 85.98, 'feels_like': 82.87, 'temp_min': 84, 'temp_max': 87.01, 'pressure': 1013, 'humidity': 23}, 'visibility': 10000, 'wind': {'speed': 3, 'deg': 175, 'gust': 8.99}, 'clouds': {'all': 0}, 'dt': 1596495575, 'sys': {'type': 3, 'id': 2003593, 'country': 'US', 'sunrise': 1596458588, 'sunset': 1596511983}, 'timezone': -25200, 'id': 5815135, 'name': 'Washington', 'cod': 200}\n",
      "Tweeted successfully!\n",
      "{'coord': {'lon': -120.5, 'lat': 47.5}, 'weather': [{'id': 800, 'main': 'Clear', 'description': 'clear sky', 'icon': '01d'}], 'base': 'stations', 'main': {'temp': 86.18, 'feels_like': 78.12, 'temp_min': 84, 'temp_max': 87.8, 'pressure': 1016, 'humidity': 22}, 'visibility': 10000, 'wind': {'speed': 11.41, 'deg': 300}, 'clouds': {'all': 1}, 'dt': 1596496177, 'sys': {'type': 1, 'id': 3917, 'country': 'US', 'sunrise': 1596458588, 'sunset': 1596511983}, 'timezone': -25200, 'id': 5815135, 'name': 'Washington', 'cod': 200}\n",
      "Tweeted successfully!\n"
     ]
    }
   ],
   "source": [
    "# Tweet out the weather every one minute\n",
    "while(True):\n",
    "    WeatherTweet()\n",
    "    time.sleep(60)"
   ]
  },
  {
   "cell_type": "code",
   "execution_count": null,
   "metadata": {},
   "outputs": [],
   "source": []
  }
 ],
 "metadata": {
  "kernelspec": {
   "display_name": "Python 3",
   "language": "python",
   "name": "python3"
  },
  "language_info": {
   "codemirror_mode": {
    "name": "ipython",
    "version": 3
   },
   "file_extension": ".py",
   "mimetype": "text/x-python",
   "name": "python",
   "nbconvert_exporter": "python",
   "pygments_lexer": "ipython3",
   "version": "3.7.6"
  },
  "varInspector": {
   "cols": {
    "lenName": 16,
    "lenType": 16,
    "lenVar": 40
   },
   "kernels_config": {
    "python": {
     "delete_cmd_postfix": "",
     "delete_cmd_prefix": "del ",
     "library": "var_list.py",
     "varRefreshCmd": "print(var_dic_list())"
    },
    "r": {
     "delete_cmd_postfix": ") ",
     "delete_cmd_prefix": "rm(",
     "library": "var_list.r",
     "varRefreshCmd": "cat(var_dic_list()) "
    }
   },
   "types_to_exclude": [
    "module",
    "function",
    "builtin_function_or_method",
    "instance",
    "_Feature"
   ],
   "window_display": false
  }
 },
 "nbformat": 4,
 "nbformat_minor": 2
}
